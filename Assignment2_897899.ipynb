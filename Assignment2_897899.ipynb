{
  "nbformat": 4,
  "nbformat_minor": 0,
  "metadata": {
    "colab": {
      "provenance": []
    },
    "kernelspec": {
      "name": "python3",
      "display_name": "Python 3"
    },
    "language_info": {
      "name": "python"
    }
  },
  "cells": [
    {
      "cell_type": "markdown",
      "source": [
        "Q1"
      ],
      "metadata": {
        "id": "mWS047ETsfS6"
      }
    },
    {
      "cell_type": "code",
      "source": [
        "class Vehicle:\n",
        "  def __init__(self, name_of_vehicle, max_speed, average_of_vehicle):\n",
        "    self.name_of_vehicle = name_of_vehicle\n",
        "    self.max_speed = max_speed\n",
        "    self.average_of_vehicle = average_of_vehicle"
      ],
      "metadata": {
        "id": "H3Q2CHdGshXo"
      },
      "execution_count": 59,
      "outputs": []
    },
    {
      "cell_type": "markdown",
      "source": [
        "Q2"
      ],
      "metadata": {
        "id": "sTJeP-N1sjRc"
      }
    },
    {
      "cell_type": "code",
      "source": [
        "class Car(Vehicle):\n",
        "  def seating_capacity(self, capacity):\n",
        "    self.capacity = capacity\n",
        "    return f\"Name: {self.name_of_vehicle} has {capacity} seats\""
      ],
      "metadata": {
        "id": "AxccslGLreNE"
      },
      "execution_count": 60,
      "outputs": []
    },
    {
      "cell_type": "markdown",
      "source": [
        "Q3 Multiple Inheritance:\n",
        "When the child class is inherited from multiple base classes.\n",
        "Example: Child is inherited from Mom and Dad"
      ],
      "metadata": {
        "id": "7I7w5bXZsM-V"
      }
    },
    {
      "cell_type": "code",
      "source": [
        "class Dad():\n",
        "  def eyes(self):\n",
        "    return f\"Has brown eyes\"\n",
        "\n",
        "class Mom():\n",
        "  def hairs(self):\n",
        "    return f\"Has black hairs\"\n",
        "\n",
        "class Child(Dad, Mom):\n",
        "  pass\n",
        "\n",
        "child = Child();\n",
        "print(child.hairs(), child.eyes())"
      ],
      "metadata": {
        "colab": {
          "base_uri": "https://localhost:8080/"
        },
        "id": "QVXhYL2lsaUu",
        "outputId": "87ffe45d-d8b4-408e-9737-eb46392cd6e5"
      },
      "execution_count": 61,
      "outputs": [
        {
          "output_type": "stream",
          "name": "stdout",
          "text": [
            "Has black hairs Has brown eyes\n"
          ]
        }
      ]
    },
    {
      "cell_type": "markdown",
      "source": [
        "Q4:"
      ],
      "metadata": {
        "id": "pmLHLEMrs8RO"
      }
    },
    {
      "cell_type": "code",
      "source": [
        "class Person:\n",
        "  # Constructor\n",
        "  def __init__(self, name, age, gender):\n",
        "    self.name = name\n",
        "    self.__age = age # Private Variable (Task 4: Encapsulation)\n",
        "    self.gender = gender\n",
        "  # say_hello Prints the details of Person\n",
        "  def say_hello(self):\n",
        "    return f\"Hello from {self.name}. {self.__age} years old {self.gender}\"\n",
        "  # Check if person is adult\n",
        "  def is_adult(self):\n",
        "    if self.__age >= 18:\n",
        "      return True\n",
        "    else:\n",
        "      return False\n",
        "  # Function to get age as __age is a private variable (Task 4)\n",
        "  def getAge(self):\n",
        "    return self.__age;\n",
        "\n",
        "person = Person(\"John\", 10, \"Male\")\n",
        "print(person.say_hello())\n",
        "print(person.is_adult())\n",
        "print(f\"Age of person is {person.getAge()}\")"
      ],
      "metadata": {
        "colab": {
          "base_uri": "https://localhost:8080/"
        },
        "id": "1ofzoxQgs8te",
        "outputId": "d8ddcc52-ee1c-44cb-8789-0f41398eed9a"
      },
      "execution_count": 62,
      "outputs": [
        {
          "output_type": "stream",
          "name": "stdout",
          "text": [
            "Hello from John. 10 years old Male\n",
            "False\n",
            "Age of person is 10\n"
          ]
        }
      ]
    },
    {
      "cell_type": "code",
      "source": [
        "# Inheritance: Class Student inherited from Person (Task 2)\n",
        "class Student(Person):\n",
        "  # Constructor calls the base constructor and sets new values\n",
        "  def __init__(self, name, age, gender, student_id, course):\n",
        "    super().__init__(name, age, gender)\n",
        "    self.student_id = student_id\n",
        "    self.course = course\n",
        "  # Polymorphism: Same name different output (Task 3)\n",
        "  def say_hello(self):\n",
        "    return f\"Student Name: {self.name} Age: {super().getAge()} Gender: {self.gender} Student_ID: {self.student_id} Course: {self.course}\"\n",
        "\n",
        "student = Student(\"Appleseed\", 18, \"Male\", \"C0897899\", \"FSDM\")\n",
        "print(student.say_hello())\n",
        "print(student.is_adult())"
      ],
      "metadata": {
        "colab": {
          "base_uri": "https://localhost:8080/"
        },
        "id": "oA1xopxjtUIn",
        "outputId": "e2186c58-1e9b-41f0-98f4-c9063c830626"
      },
      "execution_count": 63,
      "outputs": [
        {
          "output_type": "stream",
          "name": "stdout",
          "text": [
            "Student Name: Appleseed Age: 18 Gender: Male Student_ID: C0897899 Course: FSDM\n",
            "True\n"
          ]
        }
      ]
    },
    {
      "cell_type": "code",
      "source": [
        "# Inheritance: Class Teacher inherited from Person (Task 2)\n",
        "class Teacher(Person):\n",
        "  def __init__(self, name, age, gender, teacher_id, subject):\n",
        "    super().__init__(name, age, gender)\n",
        "    self.teacher_id = teacher_id\n",
        "    self.subject = subject\n",
        "  # Polymorphism: Same name different output (Task 3)\n",
        "  def say_hello(self):\n",
        "    return f\"Teacher Name: {self.name} Age: {super().getAge()} Gender: {self.gender} Teacher ID: {self.teacher_id} Teaches Subject: {self.subject}\"\n",
        "\n",
        "teacher = Teacher(\"Stanley\", 30, \"Male\", \"T123\", \"Python\")\n",
        "print(teacher.say_hello())\n",
        "print(teacher.is_adult())"
      ],
      "metadata": {
        "colab": {
          "base_uri": "https://localhost:8080/"
        },
        "id": "hDTkGMjevkVR",
        "outputId": "b80d84e7-9bd2-44b6-b141-39806ec6e5f9"
      },
      "execution_count": 64,
      "outputs": [
        {
          "output_type": "stream",
          "name": "stdout",
          "text": [
            "Teacher Name: Stanley Age: 30 Gender: Male Teacher ID: T123 Teaches Subject: Python\n",
            "True\n"
          ]
        }
      ]
    },
    {
      "cell_type": "code",
      "source": [],
      "metadata": {
        "id": "Orh0-hv94F-q"
      },
      "execution_count": 64,
      "outputs": []
    }
  ]
}